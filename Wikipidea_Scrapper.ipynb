{
 "cells": [
  {
   "cell_type": "code",
   "execution_count": 3,
   "id": "be7c44f0",
   "metadata": {},
   "outputs": [],
   "source": [
    "import requests\n",
    "from bs4 import BeautifulSoup "
   ]
  },
  {
   "cell_type": "code",
   "execution_count": 6,
   "id": "ab92141b",
   "metadata": {},
   "outputs": [
    {
     "data": {
      "text/plain": [
       "<Response [200]>"
      ]
     },
     "execution_count": 6,
     "metadata": {},
     "output_type": "execute_result"
    }
   ],
   "source": [
    "requests.get(\"https://www.amazon.in\")"
   ]
  },
  {
   "cell_type": "code",
   "execution_count": 2,
   "id": "cc396e2e",
   "metadata": {},
   "outputs": [
    {
     "name": "stdout",
     "output_type": "stream",
     "text": [
      "Enter the topic: vidhyut jamabal\n"
     ]
    }
   ],
   "source": [
    "title = str(input(\"Enter the topic: \")).replace(\" \", \"+\")\n",
    "link = \"https://www.google.co.in/search?q=\" + title + \"+wikipidea\"\n",
    "\n",
    "res = requests.get(link)\n",
    "soup = BeautifulSoup(res.text,\"html.parser\")\n"
   ]
  },
  {
   "cell_type": "code",
   "execution_count": 3,
   "id": "041473ab",
   "metadata": {},
   "outputs": [],
   "source": [
    "for sp in soup.find_all('div'):\n",
    "    try:\n",
    "        link  = sp.find('a').get('href')\n",
    "        if ('en.wikipedia.org' in link):\n",
    "            break\n",
    "    except:\n",
    "        pass\n",
    "link = link[7:].split('&')[0]"
   ]
  },
  {
   "cell_type": "code",
   "execution_count": 4,
   "id": "cf01e623",
   "metadata": {},
   "outputs": [
    {
     "data": {
      "text/plain": [
       "'https://en.wikipedia.org/wiki/Vidyut_Jammwal'"
      ]
     },
     "execution_count": 4,
     "metadata": {},
     "output_type": "execute_result"
    }
   ],
   "source": [
    "link"
   ]
  },
  {
   "cell_type": "code",
   "execution_count": 5,
   "id": "b3302666",
   "metadata": {},
   "outputs": [],
   "source": [
    "res = requests.get(link)\n",
    "soup = BeautifulSoup(res.text,\"html.parser\")"
   ]
  },
  {
   "cell_type": "code",
   "execution_count": 6,
   "id": "f500d30c",
   "metadata": {},
   "outputs": [
    {
     "data": {
      "text/plain": [
       "'Vidyut Jammwal'"
      ]
     },
     "execution_count": 6,
     "metadata": {},
     "output_type": "execute_result"
    }
   ],
   "source": [
    "heading = soup.find(\"h1\").text\n",
    "heading"
   ]
  },
  {
   "cell_type": "code",
   "execution_count": 7,
   "id": "d7fdcf92",
   "metadata": {},
   "outputs": [],
   "source": [
    "corpus = \"\"\n",
    "\n",
    "for i in soup.find_all(\"p\"):\n",
    "    corpus += i.text\n",
    "    corpus += \"\\n\"\n",
    "corpus = corpus.strip()\n",
    "    "
   ]
  },
  {
   "cell_type": "code",
   "execution_count": 8,
   "id": "7f48a10c",
   "metadata": {},
   "outputs": [],
   "source": [
    "for i in range (2,365):\n",
    "    corpus = corpus.replace(f\"[{i}]\",\"\")\n",
    "    "
   ]
  },
  {
   "cell_type": "code",
   "execution_count": 9,
   "id": "63d93609",
   "metadata": {},
   "outputs": [
    {
     "name": "stdout",
     "output_type": "stream",
     "text": [
      "Vidyut Dev Singh Jammwal (born 12 December 1980)[1] is an Indian actor, martial artist and film producer who predominantly works in Hindi films. He is also a practitioner of Kalaripayattu, which he showcased in the film Junglee (2019). He is best known for his roles in the Commando film series, and is a recipient of several accolades, including a Stardust Award, FICCI Frames Award, Filmfare Award, and IIFA Award.\n",
      "\n",
      "He made his acting debut in the Telugu film Sakthi (2011), and made his first Bollywood appearance in Force (2011). Starting out in negative roles, his first lead role was in the martial arts film Commando (2013). He has also appeared in films such as Anjaan (2014), Thuppakki (2012), Baadshaho, Commando 2 (both in 2017), Yaara (2020), Commando 3 (2019) and Sanak (2021).\n",
      "\n",
      "He ranked in The Times of India's listing of India's Top 10 Most Desirable Men in 2012 and 2013. Men's Health declared him as List of Best Bodies and Top 5 Fittest Men in 2011 and 2012 respectively. In 2012, People Magazine India listed him in as one of The Sexiest Men Alive.\n",
      "\n",
      "Vidyut Jammwal was born in Jammu, India in a Rajput family.  He is one of three children born to an Army officer and lived in various parts of India (owing to his father's transferable job) and trained in Kalaripayattu in an ashram in Palakkad, Kerala which was run by his mother, since he was three years old. He traveled to many countries training with martial artists in various forms, some of which find their base in Kalaripayattu. Jammwal travelled to over 25 countries, where he performed in live action shows. Growing up, Jammwal was inspired by Jackie Chan.\n",
      "\n",
      "Jammwal made his Bollywood debut with the John Abraham starrer action film Force (2011), a remake of the Tamil-language film Kaakha Kaakha. He played a negative role in the film and won the Filmfare Award for Best Male Debut. In the same year, Jammwal featured in negative roles in the Telugu-language films Shakti and Oosaravelli, both starring NTR.\n",
      "\n",
      "In 2012, Jammwal made his debut in Tamil cinema with Billa II, as the antagonist opposite Ajith Kumar which earned him critical appreciation. He also played the antagonist in Thuppakki opposite actor Vijay, which became a blockbuster. For his performance in the film, he received a SIIMA Award for Best Actor in a Negative Role.\n",
      "\n",
      "Jammwal later acted in Hindi-language film Commando as a protagonist and performing real-world combat-based action without the aid of stuntmen. The film was showcased internationally for the first time in July 2013 at the Fantasia Film Fest in Montreal, followed by a screening at the Fantastic Fest in Texas in September 2013. He received positive feedback from international media and action directors, calling him India's answer to Bruce Lee and Tony Jaa. After the success of Commando, he played a sharpshooter cop in Tigmanshu Dhulia's Bullett Raja. In 2014, he played a supporting role in the Tamil-language film Anjaan, alongside Suriya. In 2017, he starred in Commando 2, the sequel to Commando, which became a box office success. Baadshaho was his next release that year in which he played Major Seher Singh, the movie did average business worldwide.\n",
      "\n",
      "In 2019, Jammwal starred in American director Chuck Russell's first Bollywood film Junglee and Commando 3. The latter saw him returning to the Commando series and became the most successful film in the franchise. His next project was Tigmanshu Dhulia's Yaara, an official remake of the French film Les Lyonnais. Yaara was one of three films Vidyut signed for – the other two being large format films by director Ram Madhvani, creating an aura similar to the Hollywood flick 300. In 2020, he appeared in an action thriller Khuda Haafiz which was inspired from real life events. The movie became his biggest opener ever and its sequel Khuda Haafiz Chapter II was announced with same leads. He also played the lead role in the movie Sanak. In 2024, Jammwal starred in the sports action film Crakk which he also produced; it emerged a major failure.\n",
      "\n",
      "Jammwal has been part of a number of popular magazine lists. He ranked in The Times of India's listing of India's Top 10 Most Desirable Men in 2012 and 2013. Men's Health declared him as List of Best Bodies and Top 5 Fittest Men in 2011 and 2012 respectively. In 2012, People Magazine India  listed him in as one of The Sexiest Men Alive. In 2014, He was honoured as PETA's Hottest Vegetarian along with Kangana Ranaut.[citation needed]\n",
      "\n",
      "Jammwal is a vegan and a rock climber.\n",
      "\n",
      "On 1 September 2021, Vidyut Jamwal announced his engagement with Indian fashion designer Nandita Mahtani. In 2023, Jammwal and Mahtani broke their engagement. A year later, Jammwal worked in a French circus for 14 days as one of his various attempts to compensate the losses incurred through Crakk.\n"
     ]
    }
   ],
   "source": [
    "print(corpus)"
   ]
  },
  {
   "cell_type": "code",
   "execution_count": 10,
   "id": "e50b861a",
   "metadata": {
    "scrolled": true
   },
   "outputs": [],
   "source": [
    "fd = open(heading + \".txt\", 'w', encoding='utf-8')\n",
    "fd.write(corpus)\n",
    "fd.close()"
   ]
  }
 ],
 "metadata": {
  "kernelspec": {
   "display_name": "Python 3",
   "language": "python",
   "name": "python3"
  },
  "language_info": {
   "codemirror_mode": {
    "name": "ipython",
    "version": 3
   },
   "file_extension": ".py",
   "mimetype": "text/x-python",
   "name": "python",
   "nbconvert_exporter": "python",
   "pygments_lexer": "ipython3",
   "version": "3.8.8"
  }
 },
 "nbformat": 4,
 "nbformat_minor": 5
}
